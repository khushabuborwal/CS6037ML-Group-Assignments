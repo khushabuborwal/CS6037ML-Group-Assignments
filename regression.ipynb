{
 "cells": [
  {
   "cell_type": "code",
   "execution_count": 39,
   "id": "fb063381-e752-453e-89d7-3edb52157865",
   "metadata": {
    "collapsed": true,
    "jupyter": {
     "outputs_hidden": true
    }
   },
   "outputs": [
    {
     "name": "stdout",
     "output_type": "stream",
     "text": [
      "Collecting scikit-learn\n",
      "  Downloading scikit_learn-1.5.2-cp312-cp312-macosx_10_9_x86_64.whl.metadata (13 kB)\n",
      "Requirement already satisfied: numpy>=1.19.5 in /Library/Frameworks/Python.framework/Versions/3.12/lib/python3.12/site-packages (from scikit-learn) (2.1.1)\n",
      "Collecting scipy>=1.6.0 (from scikit-learn)\n",
      "  Downloading scipy-1.14.1-cp312-cp312-macosx_10_13_x86_64.whl.metadata (60 kB)\n",
      "Collecting joblib>=1.2.0 (from scikit-learn)\n",
      "  Downloading joblib-1.4.2-py3-none-any.whl.metadata (5.4 kB)\n",
      "Collecting threadpoolctl>=3.1.0 (from scikit-learn)\n",
      "  Downloading threadpoolctl-3.5.0-py3-none-any.whl.metadata (13 kB)\n",
      "Downloading scikit_learn-1.5.2-cp312-cp312-macosx_10_9_x86_64.whl (12.1 MB)\n",
      "\u001b[2K   \u001b[90m━━━━━━━━━━━━━━━━━━━━━━━━━━━━━━━━━━━━━━━━\u001b[0m \u001b[32m12.1/12.1 MB\u001b[0m \u001b[31m1.2 MB/s\u001b[0m eta \u001b[36m0:00:00\u001b[0m00:01\u001b[0m00:01\u001b[0m\n",
      "\u001b[?25hDownloading joblib-1.4.2-py3-none-any.whl (301 kB)\n",
      "Downloading scipy-1.14.1-cp312-cp312-macosx_10_13_x86_64.whl (39.1 MB)\n",
      "\u001b[2K   \u001b[90m━━━━━━━━━━━━━━━━━━━━━━━━━━━━━━━━━━━━━━━━\u001b[0m \u001b[32m39.1/39.1 MB\u001b[0m \u001b[31m2.3 MB/s\u001b[0m eta \u001b[36m0:00:00\u001b[0m00:01\u001b[0m00:01\u001b[0m\n",
      "\u001b[?25hDownloading threadpoolctl-3.5.0-py3-none-any.whl (18 kB)\n",
      "Installing collected packages: threadpoolctl, scipy, joblib, scikit-learn\n",
      "Successfully installed joblib-1.4.2 scikit-learn-1.5.2 scipy-1.14.1 threadpoolctl-3.5.0\n"
     ]
    }
   ],
   "source": [
    "!pip3 install scikit-learn"
   ]
  },
  {
   "cell_type": "code",
   "execution_count": 60,
   "id": "2dd163c8-89a7-4044-a424-6c93a33dd802",
   "metadata": {},
   "outputs": [
    {
     "name": "stdout",
     "output_type": "stream",
     "text": [
      "Split DataFrame shape: (4899, 12)\n",
      "                 0                 1            2               3          4   \\\n",
      "0     fixed acidity  volatile acidity  citric acid  residual sugar  chlorides   \n",
      "1                 7              0.27         0.36            20.7      0.045   \n",
      "2               6.3               0.3         0.34             1.6      0.049   \n",
      "3               8.1              0.28          0.4             6.9       0.05   \n",
      "4               7.2              0.23         0.32             8.5      0.058   \n",
      "...             ...               ...          ...             ...        ...   \n",
      "4894            6.2              0.21         0.29             1.6      0.039   \n",
      "4895            6.6              0.32         0.36               8      0.047   \n",
      "4896            6.5              0.24         0.19             1.2      0.041   \n",
      "4897            5.5              0.29          0.3             1.1      0.022   \n",
      "4898              6              0.21         0.38             0.8       0.02   \n",
      "\n",
      "                       5                     6        7     8          9   \\\n",
      "0     free sulfur dioxide  total sulfur dioxide  density    pH  sulphates   \n",
      "1                      45                   170    1.001     3       0.45   \n",
      "2                      14                   132    0.994   3.3       0.49   \n",
      "3                      30                    97   0.9951  3.26       0.44   \n",
      "4                      47                   186   0.9956  3.19        0.4   \n",
      "...                   ...                   ...      ...   ...        ...   \n",
      "4894                   24                    92  0.99114  3.27        0.5   \n",
      "4895                   57                   168   0.9949  3.15       0.46   \n",
      "4896                   30                   111  0.99254  2.99       0.46   \n",
      "4897                   20                   110  0.98869  3.34       0.38   \n",
      "4898                   22                    98  0.98941  3.26       0.32   \n",
      "\n",
      "           10       11  \n",
      "0     alcohol  quality  \n",
      "1         8.8        6  \n",
      "2         9.5        6  \n",
      "3        10.1        6  \n",
      "4         9.9        6  \n",
      "...       ...      ...  \n",
      "4894     11.2        6  \n",
      "4895      9.6        5  \n",
      "4896      9.4        6  \n",
      "4897     12.8        7  \n",
      "4898     11.8        6  \n",
      "\n",
      "[4899 rows x 12 columns]\n"
     ]
    }
   ],
   "source": [
    "import pandas as pd\n",
    "from sklearn.model_selection import train_test_split\n",
    "\n",
    "# Load the dataset\n",
    "raw_data = pd.read_csv('winequality-white.csv', sep='\\t', header=None)  # Using tab as separator\n",
    "\n",
    "#Display the first few rows to inspect the data\n",
    "#print(\"Original DataFrame shape:\", df.shape)\n",
    "#print(df.head())\n",
    "\n",
    "# Split the first column (which contains all attributes) by semicolons\n",
    "df_split = raw_data[0].str.split(';', expand=True)\n",
    "\n",
    "# Strip quotes from each attribute\n",
    "df = df_split.apply(lambda x: x.str.replace('\"', ''))\n",
    "\n",
    "# Check the resulting DataFrame\n",
    "print(\"Split DataFrame shape:\", df.shape)\n",
    "print(df)"
   ]
  },
  {
   "cell_type": "code",
   "execution_count": 64,
   "id": "0af274a4-8909-4b38-a8db-2fb00a4bb098",
   "metadata": {},
   "outputs": [
    {
     "name": "stdout",
     "output_type": "stream",
     "text": [
      "Feature Matrix (X) shape: (4899, 11)\n",
      "Target Vector (Y) shape: (4899,)\n"
     ]
    }
   ],
   "source": [
    "# Assuming the last column is the target variable\n",
    "# X is the features, Y is the target\n",
    "X = df.iloc[:,:-1]   # All columns except the last one\n",
    "Y = df.iloc[:, -1]   # The last column is the target\n",
    "#print(Y)\n",
    "# Check the split data\n",
    "print(\"Feature Matrix (X) shape:\", X.shape)\n",
    "print(\"Target Vector (Y) shape:\", Y.shape)"
   ]
  },
  {
   "cell_type": "code",
   "execution_count": 65,
   "id": "b607d125-1d8d-452e-9edc-29b8f78d161f",
   "metadata": {
    "scrolled": true
   },
   "outputs": [
    {
     "name": "stdout",
     "output_type": "stream",
     "text": [
      "       0      1     2     3      4   5    6        7     8     9     10\n",
      "2150  6.8   0.24  0.34   5.1  0.038  31   99   0.9921  3.24  0.46  11.8\n",
      "4898    6   0.21  0.38   0.8   0.02  22   98  0.98941  3.26  0.32  11.8\n",
      "1586  7.3    0.3  0.74  13.5  0.039  46  165   0.9982  3.02   0.4   8.7\n",
      "1518  8.2   0.24  0.49   9.3  0.038  52  163   0.9952  3.02  0.33  10.6\n",
      "432   6.4   0.34   0.1   1.1  0.048  19   84   0.9927  3.21  0.38   9.8\n",
      "...   ...    ...   ...   ...    ...  ..  ...      ...   ...   ...   ...\n",
      "2895  6.4  0.125  0.36   1.4  0.044  22   68  0.99014  3.15   0.5  11.7\n",
      "2763  7.3   0.32  0.35   1.4   0.05   8  163  0.99244  3.24  0.42  10.7\n",
      "905   6.9   0.21  0.28   2.4  0.056  49  159   0.9944  3.02  0.47   8.8\n",
      "3980  6.5   0.29  0.52   1.7  0.034  41  193  0.99223  3.25  0.59  10.4\n",
      "235   7.2   0.23  0.38  14.3  0.058  55  194   0.9979  3.09  0.44     9\n",
      "\n",
      "[3429 rows x 11 columns]\n"
     ]
    }
   ],
   "source": [
    "# Define your percentages\n",
    "train = 0.7  # 70% for training\n",
    "# validation = 0.15 # 15% for validation\n",
    "# The remaining percentage for testing will be (100 - t - v)% = 15%\n",
    "\n",
    "# Proceed with splitting the dataset\n",
    "X_train, X_temp, Y_train, Y_temp = train_test_split(X, Y, test_size = (1-t), random_state = 1)\n",
    "X_valid, X_test, Y_valid, Y_test = train_test_split(X_temp, Y_temp, test_size=0.5, random_state= 1)\n",
    "\n",
    "# Now you can use X_train, Y_train, etc.\n",
    "print(X_train)  # To confirm the data is correctly split"
   ]
  },
  {
   "cell_type": "code",
   "execution_count": null,
   "id": "d1f56f74-627e-4c68-85fe-97e880771a53",
   "metadata": {},
   "outputs": [],
   "source": []
  }
 ],
 "metadata": {
  "kernelspec": {
   "display_name": "Python 3 (ipykernel)",
   "language": "python",
   "name": "python3"
  },
  "language_info": {
   "codemirror_mode": {
    "name": "ipython",
    "version": 3
   },
   "file_extension": ".py",
   "mimetype": "text/x-python",
   "name": "python",
   "nbconvert_exporter": "python",
   "pygments_lexer": "ipython3",
   "version": "3.12.6"
  }
 },
 "nbformat": 4,
 "nbformat_minor": 5
}
